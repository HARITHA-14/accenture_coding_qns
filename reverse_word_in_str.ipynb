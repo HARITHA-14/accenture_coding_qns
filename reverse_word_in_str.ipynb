{
  "nbformat": 4,
  "nbformat_minor": 0,
  "metadata": {
    "colab": {
      "provenance": [],
      "authorship_tag": "ABX9TyNsjZqEVPJCEVCJCcj+LU68",
      "include_colab_link": true
    },
    "kernelspec": {
      "name": "python3",
      "display_name": "Python 3"
    },
    "language_info": {
      "name": "python"
    }
  },
  "cells": [
    {
      "cell_type": "markdown",
      "metadata": {
        "id": "view-in-github",
        "colab_type": "text"
      },
      "source": [
        "<a href=\"https://colab.research.google.com/github/HARITHA-14/accenture_coding_qns/blob/main/reverse_word_in_str.ipynb\" target=\"_parent\"><img src=\"https://colab.research.google.com/assets/colab-badge.svg\" alt=\"Open In Colab\"/></a>"
      ]
    },
    {
      "cell_type": "code",
      "execution_count": 18,
      "metadata": {
        "colab": {
          "base_uri": "https://localhost:8080/"
        },
        "id": "GD3z9BEfkREI",
        "outputId": "de441571-f857-4e4f-8c1e-659ec9ea2603"
      },
      "outputs": [
        {
          "output_type": "stream",
          "name": "stdout",
          "text": [
            "hello world\n",
            "olleh dlrow\n"
          ]
        }
      ],
      "source": [
        "def reverse_str(stri):\n",
        "  string = \" \"\n",
        "  for word in stri.split():\n",
        "    reversed_word = word[::-1]\n",
        "    string += reversed_word + \" \"\n",
        "  return string.strip()\n",
        "stri = input()\n",
        "print(reverse_str(stri))\n",
        "\n",
        "\n"
      ]
    }
  ]
}