{
  "nbformat": 4,
  "nbformat_minor": 0,
  "metadata": {
    "colab": {
      "provenance": [],
      "authorship_tag": "ABX9TyPOKT9OpvE0e5fR/koroNsy",
      "include_colab_link": true
    },
    "kernelspec": {
      "name": "python3",
      "display_name": "Python 3"
    },
    "language_info": {
      "name": "python"
    }
  },
  "cells": [
    {
      "cell_type": "markdown",
      "metadata": {
        "id": "view-in-github",
        "colab_type": "text"
      },
      "source": [
        "<a href=\"https://colab.research.google.com/github/HARITHA-14/accenture_coding_qns/blob/main/rat_and_unit_accenture_coding_qns.ipynb\" target=\"_parent\"><img src=\"https://colab.research.google.com/assets/colab-badge.svg\" alt=\"Open In Colab\"/></a>"
      ]
    },
    {
      "cell_type": "markdown",
      "source": [
        "Problem Description :\n",
        "The function accepts two positive integers ‘r’ and ‘unit’ and a positive integer array ‘arr’ of size ‘n’ as its argument ‘r’ represents the number of rats present in an area, ‘unit’ is the amount of food each rat consumes and each ith element of array ‘arr’ represents the amount of food present in ‘i+1’ house number, where 0 <= i\n",
        "\n",
        "Note:\n",
        "\n",
        "Return -1 if the array is null\n",
        "Return 0 if the total amount of food from all houses is not sufficient for all the rats.\n",
        "Computed values lie within the integer range.\n",
        "Example:\n",
        "\n",
        "Input:\n",
        "\n",
        "r: 7\n",
        "unit: 2\n",
        "n: 8\n",
        "arr: 2 8 3 5 7 4 1 2\n",
        "Output:\n",
        "\n",
        "4"
      ],
      "metadata": {
        "id": "JtIjxMybDxlE"
      }
    },
    {
      "cell_type": "code",
      "source": [
        "def calculate (r, unit, arr, n):\n",
        "    if n == 0:\n",
        "        return -1\n",
        "\n",
        "    totalFoodRequired = r * unit\n",
        "    foodTillNow = 0\n",
        "    house = 0\n",
        "\n",
        "    for house in range (n):\n",
        "        foodTillNow += arr[house]\n",
        "        if foodTillNow>=totalFoodRequired:\n",
        "            break\n",
        "    if totalFoodRequired > foodTillNow:\n",
        "        return 0\n",
        "    return house + 1\n",
        "\n",
        "r = int (input ())\n",
        "unit = int (input ())\n",
        "n = int (input ())\n",
        "\n",
        "arr = list (map (int, input ().split ()))\n",
        "print (calculate (r, unit, arr, n))"
      ],
      "metadata": {
        "colab": {
          "base_uri": "https://localhost:8080/"
        },
        "id": "06MNWyTx3erk",
        "outputId": "9939e5a1-cb9b-4483-a4a2-d3b87682eda1"
      },
      "execution_count": 7,
      "outputs": [
        {
          "output_type": "stream",
          "name": "stdout",
          "text": [
            "6\n",
            "5\n",
            "9\n",
            "1 2 3 4 5 6 7 8 9 \n",
            "8\n"
          ]
        }
      ]
    },
    {
      "cell_type": "code",
      "source": [],
      "metadata": {
        "id": "UG0ItWfyDi6I"
      },
      "execution_count": null,
      "outputs": []
    }
  ]
}