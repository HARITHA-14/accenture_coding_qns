{
  "nbformat": 4,
  "nbformat_minor": 0,
  "metadata": {
    "colab": {
      "provenance": [],
      "authorship_tag": "ABX9TyMia3ikklBu3/QLatnACA1M",
      "include_colab_link": true
    },
    "kernelspec": {
      "name": "python3",
      "display_name": "Python 3"
    },
    "language_info": {
      "name": "python"
    }
  },
  "cells": [
    {
      "cell_type": "markdown",
      "metadata": {
        "id": "view-in-github",
        "colab_type": "text"
      },
      "source": [
        "<a href=\"https://colab.research.google.com/github/HARITHA-14/accenture_coding_qns/blob/main/accenture_qn_3.ipynb\" target=\"_parent\"><img src=\"https://colab.research.google.com/assets/colab-badge.svg\" alt=\"Open In Colab\"/></a>"
      ]
    },
    {
      "cell_type": "markdown",
      "source": [
        "# Assume 1-based indexing\n",
        " # Assume that the railing extends infinitely on the either sides\n",
        " # Input Format:\n",
        "input1: An integer value N representing the number of moves made by the ant.\n",
        " # input2: An integer array A consisting of the ant's moves towards eitherside\n",
        " # Sample Input\n",
        "[1,-1,1,-1,1]\n",
        "\n",
        "# Sample Output\n",
        " 2"
      ],
      "metadata": {
        "id": "bPMiK7Gaf5_C"
      }
    },
    {
      "cell_type": "code",
      "source": [
        "arr = [1,-1,1,-1,1]\n",
        "total = 0\n",
        "count = 0\n",
        "for i in arr:\n",
        "  total += i\n",
        "  if total == 0:\n",
        "    count += 1\n",
        "print(count)\n"
      ],
      "metadata": {
        "colab": {
          "base_uri": "https://localhost:8080/"
        },
        "id": "wCO1pq--gYsO",
        "outputId": "8cc5765a-d146-47eb-915a-05fb7fd3c4e4"
      },
      "execution_count": 3,
      "outputs": [
        {
          "output_type": "stream",
          "name": "stdout",
          "text": [
            "2\n"
          ]
        }
      ]
    }
  ]
}