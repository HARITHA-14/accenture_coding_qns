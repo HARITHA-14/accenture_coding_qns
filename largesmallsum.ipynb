{
  "nbformat": 4,
  "nbformat_minor": 0,
  "metadata": {
    "colab": {
      "provenance": [],
      "authorship_tag": "ABX9TyNwEoIU22KLub7ZoFU59+l8",
      "include_colab_link": true
    },
    "kernelspec": {
      "name": "python3",
      "display_name": "Python 3"
    },
    "language_info": {
      "name": "python"
    }
  },
  "cells": [
    {
      "cell_type": "markdown",
      "metadata": {
        "id": "view-in-github",
        "colab_type": "text"
      },
      "source": [
        "<a href=\"https://colab.research.google.com/github/HARITHA-14/accenture_coding_qns/blob/main/largesmallsum.ipynb\" target=\"_parent\"><img src=\"https://colab.research.google.com/assets/colab-badge.svg\" alt=\"Open In Colab\"/></a>"
      ]
    },
    {
      "cell_type": "markdown",
      "source": [
        "You are required to implement the following Function\n",
        "\n",
        "def LargeSmallSum(arr)\n",
        "\n",
        "The function accepts an integers arr of size ’length’ as its arguments you are required to return the sum of second largest  element from the even positions and second smallest from the odd position of given ‘arr’\n",
        "\n",
        "Assumption:\n",
        "\n",
        "All array elements are unique\n",
        "Treat the 0th position as even\n",
        "NOTE\n",
        "\n",
        "Return 0 if array is empty\n",
        "Return 0, if array length is 3 or less than 3\n",
        "Example\n",
        "\n",
        "Input:\n",
        "arr:3 2 1 7 5 4\n",
        "\n",
        "Output\n",
        "\n",
        "7\n",
        "\n",
        "Explanation\n",
        "\n",
        "Second largest among even position elements(1 3 5) is 3\n",
        "Second smallest among odd position element is 4\n",
        "Thus output is 3+4 = 7\n",
        "Sample Input\n",
        "\n",
        "arr:1 8 0 2 3 5 6\n",
        "\n",
        "Sample Output\n",
        "8"
      ],
      "metadata": {
        "id": "vQx5RpJCKLnR"
      }
    },
    {
      "cell_type": "code",
      "execution_count": 3,
      "metadata": {
        "colab": {
          "base_uri": "https://localhost:8080/"
        },
        "id": "XrERiRjcKIM6",
        "outputId": "d1003b35-9eb6-45ac-b975-43514f2cee1e"
      },
      "outputs": [
        {
          "output_type": "stream",
          "name": "stdout",
          "text": [
            "7\n"
          ]
        }
      ],
      "source": [
        "def largesmallsum(arr):\n",
        "  n = len(arr)\n",
        "  even_arr = []\n",
        "  odd_arr = []\n",
        "  for i in range(n):\n",
        "    if i %2 == 0:\n",
        "      even_arr.append(arr[i])\n",
        "    else:\n",
        "      odd_arr.append(arr[i])\n",
        "  even_arr = sorted(even_arr)\n",
        "  odd_arr = sorted(odd_arr)\n",
        "  print(even_arr[len(even_arr)-2] + odd_arr[len(odd_arr)-2])\n",
        "arr = [3,2,1,7,5,4]\n",
        "largesmallsum(arr)"
      ]
    }
  ]
}