{
  "nbformat": 4,
  "nbformat_minor": 0,
  "metadata": {
    "colab": {
      "provenance": [],
      "authorship_tag": "ABX9TyOIwdj0YWlSBrC3jBPM5CoB",
      "include_colab_link": true
    },
    "kernelspec": {
      "name": "python3",
      "display_name": "Python 3"
    },
    "language_info": {
      "name": "python"
    }
  },
  "cells": [
    {
      "cell_type": "markdown",
      "metadata": {
        "id": "view-in-github",
        "colab_type": "text"
      },
      "source": [
        "<a href=\"https://colab.research.google.com/github/HARITHA-14/accenture_coding_qns/blob/main/accenture_qn_2.ipynb\" target=\"_parent\"><img src=\"https://colab.research.google.com/assets/colab-badge.svg\" alt=\"Open In Colab\"/></a>"
      ]
    },
    {
      "cell_type": "markdown",
      "source": [
        "# Given a string s print the most frequent vowel that is present in the string as a output.\n",
        "# A single line containing the string s.\n",
        "# The input will be read from the STDIN by the candidate\n",
        "# Output Format:\n",
        "# Print a single character which represents the most frequent vowel in the given string.\n",
        " # Example:\n",
        " # Input:\n",
        "#helloworld\n",
        " Output:\n",
        "#0"
      ],
      "metadata": {
        "id": "jv2fZ0ewfA36"
      }
    },
    {
      "cell_type": "code",
      "source": [
        "s = input()\n",
        "d = {\n",
        "    'a': 0,\"e\": 0,\"i\": 0,\"o\": 0,\"u\": 0\n",
        "}\n",
        "for i in s:\n",
        "    if i in \"aeiou\":\n",
        "        d[i] += 1\n",
        "ans, maxValue = '',0\n",
        "for key, value in list(d.items()):\n",
        "    if value > maxValue:\n",
        "        ans = key\n",
        "        maxValue = value\n",
        "print(ans)"
      ],
      "metadata": {
        "id": "qL8k8CU1wbcc"
      },
      "execution_count": null,
      "outputs": []
    }
  ]
}