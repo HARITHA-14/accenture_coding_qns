{
  "nbformat": 4,
  "nbformat_minor": 0,
  "metadata": {
    "colab": {
      "provenance": [],
      "authorship_tag": "ABX9TyOE5d/OFm72BAZ2FI78X2Ys",
      "include_colab_link": true
    },
    "kernelspec": {
      "name": "python3",
      "display_name": "Python 3"
    },
    "language_info": {
      "name": "python"
    }
  },
  "cells": [
    {
      "cell_type": "markdown",
      "metadata": {
        "id": "view-in-github",
        "colab_type": "text"
      },
      "source": [
        "<a href=\"https://colab.research.google.com/github/HARITHA-14/accenture_coding_qns/blob/main/even_sums.ipynb\" target=\"_parent\"><img src=\"https://colab.research.google.com/assets/colab-badge.svg\" alt=\"Open In Colab\"/></a>"
      ]
    },
    {
      "cell_type": "code",
      "execution_count": 2,
      "metadata": {
        "colab": {
          "base_uri": "https://localhost:8080/"
        },
        "id": "a9-PVX6WqRcv",
        "outputId": "17333e8f-eecf-4733-8afb-56c0cf2e0b22"
      },
      "outputs": [
        {
          "output_type": "stream",
          "name": "stdout",
          "text": [
            "6\n",
            "12\n"
          ]
        }
      ],
      "source": [
        "def even_sum(N):\n",
        "  sum = 0\n",
        "  for i in range(2,N+1):\n",
        "    if i % 2 == 0:\n",
        "      sum+=i\n",
        "  return sum\n",
        "N = int(input())\n",
        "print(even_sum(N))"
      ]
    }
  ]
}