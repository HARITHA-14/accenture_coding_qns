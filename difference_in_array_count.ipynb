{
  "nbformat": 4,
  "nbformat_minor": 0,
  "metadata": {
    "colab": {
      "provenance": [],
      "authorship_tag": "ABX9TyPg4YvCT+85rgOcfAag4yXv",
      "include_colab_link": true
    },
    "kernelspec": {
      "name": "python3",
      "display_name": "Python 3"
    },
    "language_info": {
      "name": "python"
    }
  },
  "cells": [
    {
      "cell_type": "markdown",
      "metadata": {
        "id": "view-in-github",
        "colab_type": "text"
      },
      "source": [
        "<a href=\"https://colab.research.google.com/github/HARITHA-14/accenture_coding_qns/blob/main/difference_in_array_count.ipynb\" target=\"_parent\"><img src=\"https://colab.research.google.com/assets/colab-badge.svg\" alt=\"Open In Colab\"/></a>"
      ]
    },
    {
      "cell_type": "markdown",
      "source": [
        "You are given a function,\n",
        "int findCount(int arr[], int length, int num, int diff);\n",
        "\n",
        "The function accepts an integer array ‘arr’, its length and two integer variables ‘num’ and ‘diff’. Implement this function to find and return the number of elements of ‘arr’ having an absolute difference of less than or equal to ‘diff’ with ‘num’.\n",
        "Note: In case there is no element in ‘arr’ whose absolute difference with ‘num’ is less than or equal to ‘diff’, return -1.\n",
        "\n",
        "Example:\n",
        "Input:\n",
        "\n",
        "arr: 12 3 14 56 77 13\n",
        "num: 13\n",
        "diff: 2\n",
        "Output:\n",
        "3"
      ],
      "metadata": {
        "id": "2mEmBD_gtdQD"
      }
    },
    {
      "cell_type": "code",
      "execution_count": 10,
      "metadata": {
        "colab": {
          "base_uri": "https://localhost:8080/"
        },
        "id": "GBM5eFpSpl5F",
        "outputId": "d17df5b9-572c-4ff5-f3c6-45abf71df424"
      },
      "outputs": [
        {
          "output_type": "stream",
          "name": "stdout",
          "text": [
            "12 3 14 56 77 13\n",
            "6\n",
            "2\n",
            "13\n",
            "3\n"
          ]
        }
      ],
      "source": [
        "def findcount(arr,length,num,diff):\n",
        "    count=0\n",
        "    for i in range(length):\n",
        "        if(abs(arr[i]-num)<=diff):\n",
        "            count+=1\n",
        "    if count:\n",
        "        return count\n",
        "    return 0\n",
        "arr = list(map(int,input().split()))\n",
        "length = int(input())\n",
        "diff = int(input())\n",
        "num = int(input())\n",
        "print(findcount(arr,length,num,diff))"
      ]
    }
  ]
}