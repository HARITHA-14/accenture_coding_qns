{
  "nbformat": 4,
  "nbformat_minor": 0,
  "metadata": {
    "colab": {
      "provenance": [],
      "authorship_tag": "ABX9TyM0cnCKpkd3e3uQATOxXi0I",
      "include_colab_link": true
    },
    "kernelspec": {
      "name": "python3",
      "display_name": "Python 3"
    },
    "language_info": {
      "name": "python"
    }
  },
  "cells": [
    {
      "cell_type": "markdown",
      "metadata": {
        "id": "view-in-github",
        "colab_type": "text"
      },
      "source": [
        "<a href=\"https://colab.research.google.com/github/HARITHA-14/accenture_coding_qns/blob/main/count_vowels.ipynb\" target=\"_parent\"><img src=\"https://colab.research.google.com/assets/colab-badge.svg\" alt=\"Open In Colab\"/></a>"
      ]
    },
    {
      "cell_type": "code",
      "execution_count": 1,
      "metadata": {
        "colab": {
          "base_uri": "https://localhost:8080/"
        },
        "id": "_rCkawRsvwjO",
        "outputId": "2b2bd6c7-897a-402e-8988-fe80f06a9063"
      },
      "outputs": [
        {
          "output_type": "stream",
          "name": "stdout",
          "text": [
            "gun\n",
            "1\n"
          ]
        }
      ],
      "source": [
        "def count_vowels(string):\n",
        "  vowels = \"aeiouAEIOU\"\n",
        "  count_vowels = 0\n",
        "  for char in string:\n",
        "    if char in vowels:\n",
        "      count_vowels +=1\n",
        "  return count_vowels\n",
        "string = input()\n",
        "print(count_vowels(string))"
      ]
    }
  ]
}