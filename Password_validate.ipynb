{
  "nbformat": 4,
  "nbformat_minor": 0,
  "metadata": {
    "colab": {
      "provenance": [],
      "authorship_tag": "ABX9TyNbBhtiZObVf/elZzsh2dKv",
      "include_colab_link": true
    },
    "kernelspec": {
      "name": "python3",
      "display_name": "Python 3"
    },
    "language_info": {
      "name": "python"
    }
  },
  "cells": [
    {
      "cell_type": "markdown",
      "metadata": {
        "id": "view-in-github",
        "colab_type": "text"
      },
      "source": [
        "<a href=\"https://colab.research.google.com/github/HARITHA-14/accenture_coding_qns/blob/main/Password_validate.ipynb\" target=\"_parent\"><img src=\"https://colab.research.google.com/assets/colab-badge.svg\" alt=\"Open In Colab\"/></a>"
      ]
    },
    {
      "cell_type": "markdown",
      "source": [
        "You are given a function.\n",
        "int CheckPassword(char str[], int n);\n",
        "The function accepts string str of size n as an argument. Implement the function which returns 1 if given string str is valid password else 0.\n",
        "str is a valid password if it satisfies the below conditions.\n",
        "\n",
        "– At least 4 characters\n",
        "– At least one numeric digit\n",
        "– At Least one Capital Letter\n",
        "– Must not have space or slash (/)\n",
        "– Starting character must not be a number\n",
        "Assumption:\n",
        "Input string will not be empty.\n",
        "Example:\n",
        "\n",
        "Input 1:\n",
        "aA1_67\n",
        "Input 2:\n",
        "a987 abC012\n",
        "\n",
        "Output 1:\n",
        "1\n",
        "Output 2:\n",
        "0"
      ],
      "metadata": {
        "id": "_jgpFA1HhcMm"
      }
    },
    {
      "cell_type": "code",
      "execution_count": 3,
      "metadata": {
        "colab": {
          "base_uri": "https://localhost:8080/"
        },
        "id": "cPO5LqsshUW8",
        "outputId": "a92d3dd1-81ef-4149-83f2-7af91b93aee4"
      },
      "outputs": [
        {
          "output_type": "stream",
          "name": "stdout",
          "text": [
            "N@12\n",
            "1\n"
          ]
        }
      ],
      "source": [
        "def checkpass(str):\n",
        "  n = len(str)\n",
        "  if n <4:\n",
        "    return 0\n",
        "  if str[0].isdigit():\n",
        "    return 0\n",
        "  num = 0\n",
        "  cap = 0\n",
        "  for i in range(n):\n",
        "    if str[i] == \" \" or str[i] ==\"/\":\n",
        "      return 0\n",
        "    if str[i].isdigit():\n",
        "      num+=1\n",
        "    if str[i]>=\"A\" and str[i]<=\"Z\":\n",
        "      cap+=1\n",
        "  if cap>0 and num > 0:\n",
        "    return 1\n",
        "  else:\n",
        "    return 0\n",
        "str = input()\n",
        "print(checkpass(str))"
      ]
    }
  ]
}