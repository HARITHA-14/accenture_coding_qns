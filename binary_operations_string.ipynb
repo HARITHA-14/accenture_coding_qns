{
  "nbformat": 4,
  "nbformat_minor": 0,
  "metadata": {
    "colab": {
      "provenance": [],
      "authorship_tag": "ABX9TyOotSB6adALDqb/bLuSuDLJ",
      "include_colab_link": true
    },
    "kernelspec": {
      "name": "python3",
      "display_name": "Python 3"
    },
    "language_info": {
      "name": "python"
    }
  },
  "cells": [
    {
      "cell_type": "markdown",
      "metadata": {
        "id": "view-in-github",
        "colab_type": "text"
      },
      "source": [
        "<a href=\"https://colab.research.google.com/github/HARITHA-14/accenture_coding_qns/blob/main/binary_operations_string.ipynb\" target=\"_parent\"><img src=\"https://colab.research.google.com/assets/colab-badge.svg\" alt=\"Open In Colab\"/></a>"
      ]
    },
    {
      "cell_type": "markdown",
      "source": [
        "Problem Description :\n",
        "The Binary number system only uses two digits, 0 and 1 and number system can be called binary string. You are required to implement the following function:\n",
        "\n",
        "int OperationsBinaryString(char* str);\n",
        "\n",
        "The function accepts a string str as its argument. The string str consists of binary digits eparated with an alphabet as follows:\n",
        "\n",
        "– A denotes AND operation\n",
        "– B denotes OR operation\n",
        "– C denotes XOR Operation\n",
        "You are required to calculate the result of the string str, scanning the string to right taking one opearation at a time, and return the same.\n",
        "\n",
        "Note:\n",
        "No order of priorities of operations is required\n",
        "Length of str is odd\n",
        "If str is NULL or None (in case of Python), return -1\n",
        "Input:\n",
        "str: 1C0C1C1A0B1\n",
        "\n",
        "Output:\n",
        "1\n",
        "\n",
        "Explanation:\n",
        "The alphabets in str when expanded becomes “1 XOR 0 XOR 1 XOR 1 AND 0 OR 1”, result of the expression becomes 1, hence 1 is returned.\n",
        "\n",
        "Sample Input:\n",
        "0C1A1B1C1C1B0A0\n",
        "\n",
        "Output:\n",
        "0"
      ],
      "metadata": {
        "id": "NTcuRNxGEGpg"
      }
    },
    {
      "cell_type": "code",
      "execution_count": 1,
      "metadata": {
        "colab": {
          "base_uri": "https://localhost:8080/"
        },
        "id": "BJWlUmtgEE5M",
        "outputId": "8b4fe71f-d5f7-4029-faa9-cc6ef2c56c71"
      },
      "outputs": [
        {
          "output_type": "stream",
          "name": "stdout",
          "text": [
            "1c0c1c1a0b1\n",
            "1\n"
          ]
        }
      ],
      "source": [
        "def operationBinaryString(str):\n",
        "  a = int(str[0])\n",
        "  i = 1\n",
        "  while i < len(str):\n",
        "    if str[i] == 'A':\n",
        "      a &= int(str[i+1])\n",
        "    elif str[i] == 'B':\n",
        "      a |= int(str[i+1])\n",
        "    elif str[i] == 'C':\n",
        "      a ^= int(str[i+1])\n",
        "    i+=2\n",
        "  return a\n",
        "str = input()\n",
        "print(operationBinaryString(str))"
      ]
    }
  ]
}