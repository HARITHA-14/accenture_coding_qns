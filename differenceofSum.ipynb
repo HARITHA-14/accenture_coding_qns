{
  "nbformat": 4,
  "nbformat_minor": 0,
  "metadata": {
    "colab": {
      "provenance": [],
      "authorship_tag": "ABX9TyNiO39u68mPhbYOVFDS9T+d",
      "include_colab_link": true
    },
    "kernelspec": {
      "name": "python3",
      "display_name": "Python 3"
    },
    "language_info": {
      "name": "python"
    }
  },
  "cells": [
    {
      "cell_type": "markdown",
      "metadata": {
        "id": "view-in-github",
        "colab_type": "text"
      },
      "source": [
        "<a href=\"https://colab.research.google.com/github/HARITHA-14/accenture_coding_qns/blob/main/differenceofSum.ipynb\" target=\"_parent\"><img src=\"https://colab.research.google.com/assets/colab-badge.svg\" alt=\"Open In Colab\"/></a>"
      ]
    },
    {
      "cell_type": "markdown",
      "source": [
        "Implement the following Function\n",
        "\n",
        "def differenceofSum(n. m)\n",
        "\n",
        "The function accepts two integers n, m as arguments Find the sum of all numbers in range from 1 to m(both inclusive) that are not divisible by n. Return difference between sum of integers not divisible by n with sum of numbers divisible by n.\n",
        "\n",
        "Assumption:\n",
        "\n",
        "n>0 and m>0\n",
        "Sum lies between integral range\n",
        "Example\n",
        "\n",
        "Input\n",
        "n:4\n",
        "m:20\n",
        "Output\n",
        "90"
      ],
      "metadata": {
        "id": "VEzPMRyfJ1PH"
      }
    },
    {
      "cell_type": "code",
      "execution_count": 3,
      "metadata": {
        "colab": {
          "base_uri": "https://localhost:8080/"
        },
        "id": "aCNS1U_IEQfd",
        "outputId": "d55edb2a-3f9e-4dd7-b8c6-b82e06230062"
      },
      "outputs": [
        {
          "output_type": "stream",
          "name": "stdout",
          "text": [
            "3\n",
            "10\n",
            "19\n"
          ]
        }
      ],
      "source": [
        "def differenceofsum(n,m):\n",
        "  div_n = 0\n",
        "  div_not_n = 0\n",
        "  for i in range(1,m+1):\n",
        "    if i % n ==0:\n",
        "      div_n += i\n",
        "    else:\n",
        "      div_not_n += i\n",
        "  return abs(div_n - div_not_n)\n",
        "n = int(input())\n",
        "m = int(input())\n",
        "\n",
        "print(differenceofsum(n,m))"
      ]
    }
  ]
}