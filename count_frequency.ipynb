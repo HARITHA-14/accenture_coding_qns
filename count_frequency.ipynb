{
  "nbformat": 4,
  "nbformat_minor": 0,
  "metadata": {
    "colab": {
      "provenance": [],
      "authorship_tag": "ABX9TyPwT+JE+u/dGURDG/Xn70cw",
      "include_colab_link": true
    },
    "kernelspec": {
      "name": "python3",
      "display_name": "Python 3"
    },
    "language_info": {
      "name": "python"
    }
  },
  "cells": [
    {
      "cell_type": "markdown",
      "metadata": {
        "id": "view-in-github",
        "colab_type": "text"
      },
      "source": [
        "<a href=\"https://colab.research.google.com/github/HARITHA-14/accenture_coding_qns/blob/main/count_frequency.ipynb\" target=\"_parent\"><img src=\"https://colab.research.google.com/assets/colab-badge.svg\" alt=\"Open In Colab\"/></a>"
      ]
    },
    {
      "cell_type": "markdown",
      "source": [
        "Implemented using hashmap"
      ],
      "metadata": {
        "id": "86l1VmxhuHkt"
      }
    },
    {
      "cell_type": "code",
      "execution_count": 1,
      "metadata": {
        "colab": {
          "base_uri": "https://localhost:8080/"
        },
        "id": "uZXqlajZrOqv",
        "outputId": "6f4f306e-c589-4dcc-ca3b-0fb90f995579"
      },
      "outputs": [
        {
          "output_type": "stream",
          "name": "stdout",
          "text": [
            "5\n",
            "13 20 16 16 19 \n",
            "16\n",
            "2\n"
          ]
        }
      ],
      "source": [
        "def freq(N,arr,p):\n",
        "  hashmap = {}\n",
        "  for i in range(N):\n",
        "    if arr[i] in hashmap:\n",
        "      hashmap[arr[i]] += 1\n",
        "    else:\n",
        "      hashmap[arr[i]] = 1\n",
        "  return hashmap[p]\n",
        "N = int(input())\n",
        "arr = list(map(int,input().split()))\n",
        "p = int(input())\n",
        "print(freq(N,arr,p))"
      ]
    },
    {
      "cell_type": "markdown",
      "source": [
        "Implemented using count variable\n"
      ],
      "metadata": {
        "id": "BBqUltAuuNCD"
      }
    },
    {
      "cell_type": "code",
      "source": [
        "def freq(N,arr,p):\n",
        "  count = 0\n",
        "  for i in range(N):\n",
        "    if arr[i] == p:\n",
        "      count+=1\n",
        "  return count\n",
        "N = int(input())\n",
        "arr = list(map(int,input().split()))\n",
        "p = int(input())\n",
        "print(freq(N,arr,p))\n"
      ],
      "metadata": {
        "colab": {
          "base_uri": "https://localhost:8080/"
        },
        "id": "9MlqnFq0ttDV",
        "outputId": "24434e43-b8f7-4240-bee9-4d28c920202d"
      },
      "execution_count": 2,
      "outputs": [
        {
          "output_type": "stream",
          "name": "stdout",
          "text": [
            "5\n",
            "13 20 16 16 19\n",
            "16\n",
            "2\n"
          ]
        }
      ]
    }
  ]
}